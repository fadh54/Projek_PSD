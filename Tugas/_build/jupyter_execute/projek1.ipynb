{
 "cells": [
  {
   "cell_type": "markdown",
   "id": "a2dad070",
   "metadata": {},
   "source": [
    "# Analisis Perilaku Konsumen Berdasarkan Data Penjualan Retail\n",
    "\n",
    "### Latar Belakang\n",
    "\n",
    "i era digital saat ini, pemilik retail harus mampu memahami pola konsumsi dan preferensi pelanggan untuk menciptakan strategi pemasaran yang efektif, meningkatkan pengalaman berbelanja, dan membangun loyalitas pelanggan. Salah satu cara untuk memahami perilaku konsumen yaitu dengan menganalisis data penjualan retail. untuk mendapatkan pola pembelian pelanggan diperlukan analisis asosiasi. Analisis asosiasi atau association rule mining sendiri merupakan teknik data mining untuk menemukan aturan assosiatif antara suatu kombinasi item. Dengan begitu pemilik retail dapat dengan mudah mengatur penempatan barangnya atau merancang promosi pemasaran dengan memakai kupon diskon untuk kombinasi barang tertentu.\n",
    "\n",
    "### Tujuan\n",
    "\n",
    "Untuk meningkatkan penjualan toko berdasarkan perilaku konsumen pada data penjualan\n",
    "\n",
    "### Rumusan Masalah\n",
    "\n",
    "Bagaimana pola pembelian konsumen dari data penjualan untuk meningkatkan tingkat penjualan produk?"
   ]
  },
  {
   "cell_type": "code",
   "execution_count": 1,
   "id": "758f1cef",
   "metadata": {},
   "outputs": [
    {
     "ename": "SyntaxError",
     "evalue": "invalid syntax (3592616478.py, line 1)",
     "output_type": "error",
     "traceback": [
      "\u001b[1;36m  Cell \u001b[1;32mIn[1], line 1\u001b[1;36m\u001b[0m\n\u001b[1;33m    pip install mlxtend\u001b[0m\n\u001b[1;37m        ^\u001b[0m\n\u001b[1;31mSyntaxError\u001b[0m\u001b[1;31m:\u001b[0m invalid syntax\n"
     ]
    }
   ],
   "source": [
    "pip install mlxtend\n",
    "pip install --upgrade mlxtend\n",
    "pip install apyori"
   ]
  },
  {
   "cell_type": "code",
   "execution_count": null,
   "id": "f59b9d4a",
   "metadata": {},
   "outputs": [],
   "source": [
    "import pandas as pd\n",
    "import numpy as np\n",
    "import matplotlib.pyplot as plt\n",
    "import seaborn as sns\n",
    "\n",
    "from apyori import apriori\n",
    "from mlxtend.frequent_patterns import apriori\n",
    "from mlxtend.frequent_patterns import association_rules\n",
    "# pip install apyori\n",
    "import datetime"
   ]
  },
  {
   "cell_type": "code",
   "execution_count": null,
   "id": "86ddaeff",
   "metadata": {},
   "outputs": [],
   "source": [
    "df = pd.read_csv('https://raw.githubusercontent.com/fadh54/Tugas_PSD/refs/heads/main/Retail.csv', delimiter=';')"
   ]
  },
  {
   "cell_type": "markdown",
   "id": "1e0608dd",
   "metadata": {},
   "source": [
    "Sekumpulan data yang diambil dari github dan akan digunakan untuk proses data mining"
   ]
  },
  {
   "cell_type": "code",
   "execution_count": null,
   "id": "1497f875",
   "metadata": {},
   "outputs": [],
   "source": [
    "df.head()"
   ]
  },
  {
   "cell_type": "code",
   "execution_count": null,
   "id": "2acfe5e1",
   "metadata": {},
   "outputs": [],
   "source": [
    "df.info()"
   ]
  },
  {
   "cell_type": "code",
   "execution_count": null,
   "id": "230e998a",
   "metadata": {},
   "outputs": [],
   "source": [
    "df.isnull().sum()"
   ]
  },
  {
   "cell_type": "markdown",
   "id": "5fb77d1a",
   "metadata": {},
   "source": [
    "## Data Pre-Processing\n",
    "\n",
    "Data pre-pocessing adalah proses mengolah data mentah yang didapat menjadi data yang lebih bersih agar mudah untuk diolah\n",
    "\n",
    "### Data Cleansing\n",
    "\n",
    "Proses untuk membersihkan data dengan menghapus variabel CustomerID yang memiliki nilai kosong, dan menghilangkan Transaksi yang merupakan transaksi kredit (Di awali dengan hufuf C pada invoice number)"
   ]
  },
  {
   "cell_type": "code",
   "execution_count": null,
   "id": "a3fe0ed1",
   "metadata": {},
   "outputs": [],
   "source": [
    "df.head()"
   ]
  },
  {
   "cell_type": "code",
   "execution_count": null,
   "id": "2541da85",
   "metadata": {},
   "outputs": [],
   "source": [
    "df['InvoiceDate'] = pd.to_datetime(df['InvoiceDate'], format='%d/%m/%Y %H:%M')"
   ]
  },
  {
   "cell_type": "code",
   "execution_count": null,
   "id": "f98ef41e",
   "metadata": {},
   "outputs": [],
   "source": [
    "df['PRODUCT'] = df['PRODUCT'].str.strip()\n",
    "df['PRODUCT_CATEGORY'] = df['PRODUCT_CATEGORY'].str.strip()\n",
    "\n",
    "df.dropna(axis=0, subset=['CustomerID'], inplace=True)"
   ]
  },
  {
   "cell_type": "markdown",
   "id": "db052b2d",
   "metadata": {},
   "source": [
    "Membersihkan ruang di deskripsi produk, kategori produk, dan menghapus baris yang tidak memiliki data CustomerID yang valid"
   ]
  },
  {
   "cell_type": "code",
   "execution_count": null,
   "id": "fd3c6557",
   "metadata": {},
   "outputs": [],
   "source": [
    "df.isnull().sum()"
   ]
  },
  {
   "cell_type": "markdown",
   "id": "09fdfd8c",
   "metadata": {},
   "source": [
    "mengecek data yang memiliki nilai kosong"
   ]
  },
  {
   "cell_type": "code",
   "execution_count": null,
   "id": "7495bf74",
   "metadata": {},
   "outputs": [],
   "source": [
    "df['InvoiceNo'] = df['InvoiceNo'].astype('str')\n",
    "df = df[~(df['InvoiceNo'].str[0] == 'C')]\n",
    "df"
   ]
  },
  {
   "cell_type": "markdown",
   "id": "d64d02eb",
   "metadata": {},
   "source": [
    "menghapus variabel inoviceNO yang diawali dengan huruf C pada invoice numbernya\n",
    "\n",
    "### Data Transformation\n",
    "\n",
    "Data transformation proses untuk mengubah format data, mengkonversi tipe data, melakukan perhitungan data, menyaring data yang tidak relevan"
   ]
  },
  {
   "cell_type": "code",
   "execution_count": null,
   "id": "73b923ea",
   "metadata": {},
   "outputs": [],
   "source": [
    "Keranjang = (df.groupby(['InvoiceNo', 'PRODUCT_CATEGORY'])['Quantity'].sum()\\\n",
    "                                      .unstack().reset_index().fillna(0)\\\n",
    "                                      .set_index('InvoiceNo'))\n",
    "Keranjang"
   ]
  },
  {
   "cell_type": "code",
   "execution_count": null,
   "id": "c51b26e1",
   "metadata": {},
   "outputs": [],
   "source": [
    "Keranjang.iloc[:,[0,1,2,3,4,5,6,7]].head()"
   ]
  },
  {
   "cell_type": "code",
   "execution_count": null,
   "id": "e4756707",
   "metadata": {},
   "outputs": [],
   "source": [
    "def ubah_angka(x):\n",
    "  if x<=0:\n",
    "    return 0\n",
    "  else:\n",
    "    return 1\n",
    "barang = Keranjang.applymap(ubah_angka)\n",
    "barang.head()"
   ]
  },
  {
   "cell_type": "markdown",
   "id": "04f47d4c",
   "metadata": {},
   "source": [
    "Kemudian melakukan encoding, proses encoding adalah proses mengubah data ke dalam bentuk angka, agar sistem atau komputer dapat memahami informasi dari dataset, jika barang kurang dari sama dengan 0 maka keranjang tersebut bernilai 0 dan jika lebih dari 1 maka nilainya adalah 1, sehingga jika sebuah nota pembelian barang A sebanyak 10 buah maka hanya akan dihitung 1. Karena analisis yang di gunakan menyaratkan seperti itu.\n",
    "\n",
    "## Data Minning\n",
    "\n",
    "Data mining atau bisa juga disebut data exploration, proses mencari pola atau informasi menarik dalam data dengan menggunakan teknik atau metode tertentu."
   ]
  },
  {
   "cell_type": "code",
   "execution_count": null,
   "id": "c53611ee",
   "metadata": {},
   "outputs": [],
   "source": [
    "frequent_itemsets = apriori(barang, min_support=0.1, use_colnames=True)\n",
    "num_itemsets = len(frequent_itemsets)\n",
    "frequent_itemsets"
   ]
  },
  {
   "cell_type": "markdown",
   "id": "b7a67160",
   "metadata": {},
   "source": [
    "membuat variable dari beberapa barang yang sering terbeli atau ada pada transaksi dengan menggunakan perintah apriori. Dengan data yang berasal dari dataframe barang dengan minimum nilai support 0.1 / 10%.membuat variable dari beberapa barang yang sering terbeli atau ada pada transaksi dengan menggunakan perintah apriori. Dengan data yang berasal dari dataframe barang dengan minimum nilai support 0.1 / 10%."
   ]
  },
  {
   "cell_type": "code",
   "execution_count": null,
   "id": "2557574d",
   "metadata": {},
   "outputs": [],
   "source": [
    "rules = association_rules(frequent_itemsets, num_itemsets, metric=\"lift\", min_threshold=1)\n",
    "rules"
   ]
  },
  {
   "cell_type": "code",
   "execution_count": null,
   "id": "0464089a",
   "metadata": {},
   "outputs": [],
   "source": [
    "result = rules[(rules['lift'] >= 1) &\n",
    "               (rules['confidence'] >= 0.5)]\n",
    "\n",
    "apr_result = result.sort_values(by='confidence', ascending=False)\n",
    "apr_result"
   ]
  },
  {
   "cell_type": "markdown",
   "id": "53ab8700",
   "metadata": {},
   "source": [
    "Melakukan filter untuk nilai lift ratio lebih dari sama dengan 1 dengan tingkat confidence minimal 0.8 (lebih dari sama dengan 80%)\n",
    "\n",
    "## Interpretation\n",
    "\n",
    "Dari result table yang telah di filter, dapat ditarik kesimpulan bahwa produk-produk yang dibeli secara bersamaan oleh customer terhadap rule asosiasi pada dataset dengan min_support 0.1 / 10%, min_threshold = 1, dan nilai lift sebesar lebih dari sama dengan 1 serta tingkat confidence minimal yang diperhitungkan sebesar 0.5 (50%) diantaranya adalah:\n",
    "Sabun & Sampooh, Parfum, and Kosmetik.\n",
    "Biskuit and Kosmetik.\n",
    "Minuman, Susu, and Kosmetik."
   ]
  },
  {
   "cell_type": "code",
   "execution_count": null,
   "id": "e6f94410",
   "metadata": {},
   "outputs": [],
   "source": [
    "apr_result['consequents'].value_counts()"
   ]
  },
  {
   "cell_type": "markdown",
   "id": "06d23a58",
   "metadata": {},
   "source": [
    "When your book is built, the contents of any `{code-cell}` blocks will be\n",
    "executed with your default Jupyter kernel, and their outputs will be displayed\n",
    "in-line with the rest of your content.\n",
    "\n",
    "```{seealso}\n",
    "Jupyter Book uses [Jupytext](https://jupytext.readthedocs.io/en/latest/) to convert text-based files to notebooks, and can support [many other text-based notebook files](https://jupyterbook.org/file-types/jupytext.html).\n",
    "```\n",
    "\n",
    "## Create a notebook with MyST Markdown\n",
    "\n",
    "MyST Markdown notebooks are defined by two things:\n",
    "\n",
    "1. YAML metadata that is needed to understand if / how it should convert text files to notebooks (including information about the kernel needed).\n",
    "   See the YAML at the top of this page for example.\n",
    "2. The presence of `{code-cell}` directives, which will be executed with your book.\n",
    "\n",
    "That's all that is needed to get started!\n",
    "\n",
    "## Quickly add YAML metadata for MyST Notebooks\n",
    "\n",
    "If you have a markdown file and you'd like to quickly add YAML metadata to it, so that Jupyter Book will treat it as a MyST Markdown Notebook, run the following command:\n",
    "\n",
    "```\n",
    "jupyter-book myst init path/to/markdownfile.md\n",
    "```"
   ]
  }
 ],
 "metadata": {
  "jupytext": {
   "formats": "md:myst",
   "text_representation": {
    "extension": ".md",
    "format_name": "myst",
    "format_version": 0.13,
    "jupytext_version": "1.11.5"
   }
  },
  "kernelspec": {
   "display_name": "Python 3",
   "language": "python",
   "name": "python3"
  },
  "language_info": {
   "codemirror_mode": {
    "name": "ipython",
    "version": 3
   },
   "file_extension": ".py",
   "mimetype": "text/x-python",
   "name": "python",
   "nbconvert_exporter": "python",
   "pygments_lexer": "ipython3",
   "version": "3.10.6"
  },
  "source_map": [
   13,
   29,
   35,
   48,
   50,
   54,
   58,
   62,
   64,
   74,
   78,
   82,
   87,
   91,
   93,
   97,
   101,
   109,
   116,
   120,
   128,
   136,
   140,
   144,
   149,
   155,
   166,
   168
  ]
 },
 "nbformat": 4,
 "nbformat_minor": 5
}